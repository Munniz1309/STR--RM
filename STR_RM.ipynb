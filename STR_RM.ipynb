{
  "nbformat": 4,
  "nbformat_minor": 0,
  "metadata": {
    "colab": {
      "provenance": [],
      "authorship_tag": "ABX9TyMT1Eb8KkYdiKo8cMRLBtIO",
      "include_colab_link": true
    },
    "kernelspec": {
      "name": "python3",
      "display_name": "Python 3"
    },
    "language_info": {
      "name": "python"
    }
  },
  "cells": [
    {
      "cell_type": "markdown",
      "metadata": {
        "id": "view-in-github",
        "colab_type": "text"
      },
      "source": [
        "<a href=\"https://colab.research.google.com/github/Munniz1309/STR--RM/blob/main/STR_RM.ipynb\" target=\"_parent\"><img src=\"https://colab.research.google.com/assets/colab-badge.svg\" alt=\"Open In Colab\"/></a>"
      ]
    },
    {
      "cell_type": "code",
      "execution_count": null,
      "metadata": {
        "colab": {
          "base_uri": "https://localhost:8080/"
        },
        "id": "ES6UaUf8dNcn",
        "outputId": "20d26901-ab4a-4e4d-b9ed-bb94819dc896"
      },
      "outputs": [
        {
          "output_type": "stream",
          "name": "stdout",
          "text": [
            "Quantas tasks você quer adicionar?\n",
            "-> 3\n",
            "\n",
            "1\n",
            "Nome: a\n",
            "Prioridade: 1\n",
            "Tempo de processamento: 25\n",
            "Periodo: 25\n",
            "Deadline: 50\n",
            "\n",
            "2\n",
            "Nome: b\n",
            "Prioridade: 2\n",
            "Tempo de processamento: 25\n",
            "Periodo: 25\n",
            "Deadline: 50\n",
            "\n",
            "3\n",
            "Nome: c\n",
            "Prioridade: 3\n",
            "Tempo de processamento: 50\n",
            "Periodo: 250\n",
            "Deadline: 500\n",
            "\n",
            "\n",
            "u = 2.2, v = 0.7797631496846196\n",
            "\n",
            "\n",
            "Não Aprovado.\n",
            "\n",
            "\n"
          ]
        }
      ],
      "source": [
        "import math\n",
        "\n",
        "class Task:\n",
        "    def __init__(self, nome, prioridade, tempo_processamento, periodo, deadline):\n",
        "        self.nome = nome\n",
        "        self.prioridade = prioridade\n",
        "        self.tempo_processamento = tempo_processamento\n",
        "        self.periodo = periodo\n",
        "        self.deadline = deadline\n",
        "\n",
        "def verifica_viabilidade(tasks):\n",
        "    u = sum(task.tempo_processamento / task.periodo for task in tasks)\n",
        "    v = len(tasks) * (math.pow(2, 1.0 / len(tasks)) - 1.0)\n",
        "    print(f\"\\n\\nu = {u}, v = {v}\\n\\n\")\n",
        "    return u <= v\n",
        "\n",
        "def main():\n",
        "    qtd_task = int(input(\"Quantas tasks você quer adicionar?\\n-> \"))\n",
        "\n",
        "    tasks = []\n",
        "    for i in range(qtd_task):\n",
        "        print(f\"\\n{i + 1}\")\n",
        "        nome = input(\"Nome: \")\n",
        "        prioridade = int(input(\"Prioridade: \"))\n",
        "        tempo_processamento = int(input(\"Tempo de processamento: \"))\n",
        "        periodo = int(input(\"Periodo: \"))\n",
        "        deadline = int(input(\"Deadline: \"))\n",
        "        tasks.append(Task(nome, prioridade, tempo_processamento, periodo, deadline))\n",
        "\n",
        "    if verifica_viabilidade(tasks):\n",
        "        print(\"Aprovado.\\n\\n\")\n",
        "    else:\n",
        "        print(\"Não Aprovado.\\n\\n\")\n",
        "\n",
        "if __name__ == \"__main__\":\n",
        "    main()"
      ]
    }
  ]
}